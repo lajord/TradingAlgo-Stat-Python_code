{
 "cells": [
  {
   "cell_type": "markdown",
   "metadata": {},
   "source": [
    "##### The VPN indicator calculates the difference of up day volume and down day volume, divided by the total volume. A day is an up day when its typical price – the average of high, low, and close – is higher than yesterday’s typical price plus 1/10 ATR. The opposite is true for down days. The result is multiplied by 100 and smoothed with a 3-day EMA. The C code of this indicator:"
   ]
  },
  {
   "cell_type": "code",
   "execution_count": 1,
   "metadata": {},
   "outputs": [],
   "source": [
    "import pandas as pd\n",
    "import numpy as np"
   ]
  },
  {
   "cell_type": "markdown",
   "metadata": {},
   "source": [
    "##### Je calcul l'ATR, pour chaque bougie je prend 1/10 de la valeur de l'ATR de la veille puis je regarde si la bougie actuel a été up de + de 1/10 de l'ATR de hier ou le contraire.\n"
   ]
  },
  {
   "cell_type": "code",
   "execution_count": null,
   "metadata": {},
   "outputs": [],
   "source": [
    "\n",
    "\"\"\" Faire attention car quand tu sends la data, pour faire l'ATR notament tu vas avoir besoin de period + 1 pour faire fonctionner l'algo.. \"\"\"\n",
    "\"\"\" La période optimal serait une période de 30 data \"\"\"\n",
    "\n",
    "def calculate_typical_price(data):\n",
    "    \"\"\"Calcule le prix typique (average de high, low, close)\"\"\"\n",
    "    return (data['high'] + data['low'] + data['close']) / 3\n",
    "\n",
    "def calculate_true_range(high, low, close_prev):\n",
    "    \"\"\"Calcule le true range pour l'ATR\"\"\"\n",
    "    tr1 = high - low\n",
    "    tr2 = np.abs(high - close_prev)\n",
    "    tr3 = np.abs(low - close_prev)\n",
    "    return np.maximum.reduce([tr1, tr2, tr3])\n",
    "\n",
    "def calculate_atr(data, period):\n",
    "    \"\"\"Calcule l'ATR pour une certaine période puis renvoie la valeur\"\"\"\n",
    "    data.loc[:, 'Close_prev'] = data['close'].shift(1)\n",
    "    data.loc[:, 'TR'] = calculate_true_range(data['high'], data['low'], data['Close_prev'])\n",
    "    alpha = 2 / (period + 1)\n",
    "    data.loc[:, 'ATR'] = data['TR'].ewm(span=period, adjust=False).mean()\n",
    "    return data\n",
    "\n",
    "\n",
    "def calculate_vpn(data, period):\n",
    "    \"\"\"Calcule l'indicateur VPN\"\"\"\n",
    "    # Étape 1: Calculer l'ATR et le prix typique\n",
    "    data = calculate_atr(data, period)\n",
    "    data['TypPrice'] = calculate_typical_price(data)\n",
    "    data['Dist'] = 0.1 * data['ATR'].shift(1)\n",
    "\n",
    "    # Initialiser les colonnes pour Vp, Vn et Vtotal\n",
    "    data['Vp'] = 0.0\n",
    "    data['Vn'] = 0.0\n",
    "    data['Vtotal'] = 0.0\n",
    "\n",
    "    for i in range(1, len(data)):\n",
    "        typ_price = data.loc[data.index[i], 'TypPrice']\n",
    "        typ_price_prev = data.loc[data.index[i - 1], 'TypPrice']\n",
    "        dist = data.loc[data.index[i], 'Dist']\n",
    "        volume = data.loc[data.index[i], 'volume']\n",
    "\n",
    "        if typ_price > typ_price_prev + dist:\n",
    "            data.loc[data.index[i], 'Vp'] = volume\n",
    "        elif typ_price < typ_price_prev - dist:\n",
    "            data.loc[data.index[i], 'Vn'] = volume\n",
    "\n",
    "        data.loc[data.index[i], 'Vtotal'] = volume\n",
    "\n",
    "    # Étape 3 : Calculer le VPN brut\n",
    "    data['Vp_sum'] = data['Vp'].rolling(window=period).sum()\n",
    "    data['Vn_sum'] = data['Vn'].rolling(window=period).sum()\n",
    "    data['Vtotal_sum'] = data['Vtotal'].rolling(window=period).sum()\n",
    "\n",
    "    data['VPN_raw'] = 100 * (data['Vp_sum'] - data['Vn_sum']) / data['Vtotal_sum']\n",
    "\n",
    "    # Étape 4 : Lissage avec une EMA\n",
    "    data['VPN'] = data['VPN_raw'].ewm(span=3, adjust=False).mean()\n",
    "\n",
    "    return data\n",
    "\n"
   ]
  }
 ],
 "metadata": {
  "kernelspec": {
   "display_name": "Python 3",
   "language": "python",
   "name": "python3"
  },
  "language_info": {
   "codemirror_mode": {
    "name": "ipython",
    "version": 3
   },
   "file_extension": ".py",
   "mimetype": "text/x-python",
   "name": "python",
   "nbconvert_exporter": "python",
   "pygments_lexer": "ipython3",
   "version": "3.12.4"
  }
 },
 "nbformat": 4,
 "nbformat_minor": 2
}
