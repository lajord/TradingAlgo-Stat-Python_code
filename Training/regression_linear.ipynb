{
 "cells": [
  {
   "cell_type": "code",
   "execution_count": 3,
   "metadata": {},
   "outputs": [],
   "source": [
    "import numpy as np\n",
    "from sklearn.datasets import make_regression\n",
    "import matplotlib.pyplot as plt"
   ]
  },
  {
   "cell_type": "markdown",
   "metadata": {},
   "source": [
    "### I° Dataset"
   ]
  },
  {
   "cell_type": "code",
   "execution_count": 76,
   "metadata": {},
   "outputs": [
    {
     "data": {
      "text/plain": [
       "<matplotlib.collections.PathCollection at 0x224b6375ca0>"
      ]
     },
     "execution_count": 76,
     "metadata": {},
     "output_type": "execute_result"
    },
    {
     "data": {
      "image/png": "[encoded data removed]",
      "text/plain": [
       "<Figure size 640x480 with 1 Axes>"
      ]
     },
     "metadata": {},
     "output_type": "display_data"
    }
   ],
   "source": [
    "x, y = make_regression(n_samples=100,n_features=1,noise = 10)\n",
    "plt.scatter(x,y) #scatter permet d'afficher x en fonction de y "
   ]
  },
  {
   "cell_type": "code",
   "execution_count": 77,
   "metadata": {},
   "outputs": [],
   "source": [
    "y = y.reshape(y.shape[0],1)\n"
   ]
  },
  {
   "cell_type": "code",
   "execution_count": 80,
   "metadata": {},
   "outputs": [
    {
     "data": {
      "text/plain": [
       "array([[ 0.22085572,  1.        ],\n",
       "       [ 0.3891412 ,  1.        ],\n",
       "       [ 0.29410997,  1.        ],\n",
       "       [-0.76400816,  1.        ],\n",
       "       [-0.18060881,  1.        ],\n",
       "       [ 0.15912317,  1.        ],\n",
       "       [ 0.82970964,  1.        ],\n",
       "       [-0.78569945,  1.        ],\n",
       "       [-1.54053487,  1.        ],\n",
       "       [ 1.1296389 ,  1.        ],\n",
       "       [-0.23387241,  1.        ],\n",
       "       [-0.82838755,  1.        ],\n",
       "       [ 1.19572998,  1.        ],\n",
       "       [ 1.75911966,  1.        ],\n",
       "       [-0.86101955,  1.        ],\n",
       "       [-0.89870217,  1.        ],\n",
       "       [-0.90720565,  1.        ],\n",
       "       [-0.58461295,  1.        ],\n",
       "       [ 0.00832194,  1.        ],\n",
       "       [-0.40004286,  1.        ],\n",
       "       [ 0.3679562 ,  1.        ],\n",
       "       [ 0.23727982,  1.        ],\n",
       "       [ 1.04680659,  1.        ],\n",
       "       [-0.29792308,  1.        ],\n",
       "       [-0.42045494,  1.        ],\n",
       "       [ 1.47824967,  1.        ],\n",
       "       [-0.39107007,  1.        ],\n",
       "       [ 0.84508298,  1.        ],\n",
       "       [ 0.49626867,  1.        ],\n",
       "       [ 1.29023795,  1.        ],\n",
       "       [ 0.71679624,  1.        ],\n",
       "       [ 1.6195641 ,  1.        ],\n",
       "       [-0.0309275 ,  1.        ],\n",
       "       [ 0.41882993,  1.        ],\n",
       "       [ 0.38901117,  1.        ],\n",
       "       [-0.69258162,  1.        ],\n",
       "       [-1.06956502,  1.        ],\n",
       "       [ 0.92124631,  1.        ],\n",
       "       [ 0.63881957,  1.        ],\n",
       "       [-1.41645747,  1.        ],\n",
       "       [-1.32594106,  1.        ],\n",
       "       [-0.56620226,  1.        ],\n",
       "       [ 0.4066539 ,  1.        ],\n",
       "       [-1.20004105,  1.        ],\n",
       "       [ 1.16759523,  1.        ],\n",
       "       [-0.68407372,  1.        ],\n",
       "       [ 0.27828909,  1.        ],\n",
       "       [ 1.11895904,  1.        ],\n",
       "       [ 1.78514092,  1.        ],\n",
       "       [ 0.82285617,  1.        ],\n",
       "       [-0.56788623,  1.        ],\n",
       "       [ 0.60156735,  1.        ],\n",
       "       [ 1.27854036,  1.        ],\n",
       "       [ 0.44728041,  1.        ],\n",
       "       [ 0.95299613,  1.        ],\n",
       "       [ 0.81014556,  1.        ],\n",
       "       [-1.33126906,  1.        ],\n",
       "       [ 2.16103692,  1.        ],\n",
       "       [-0.32894132,  1.        ],\n",
       "       [ 0.23761248,  1.        ],\n",
       "       [-1.18848655,  1.        ],\n",
       "       [-1.58400212,  1.        ],\n",
       "       [ 0.41350161,  1.        ],\n",
       "       [-0.66680425,  1.        ],\n",
       "       [ 0.86442334,  1.        ],\n",
       "       [-0.15630025,  1.        ],\n",
       "       [-1.05963676,  1.        ],\n",
       "       [ 0.33882951,  1.        ],\n",
       "       [ 0.60901158,  1.        ],\n",
       "       [ 0.76742341,  1.        ],\n",
       "       [-1.32521941,  1.        ],\n",
       "       [-1.16665938,  1.        ],\n",
       "       [-1.58552508,  1.        ],\n",
       "       [ 0.06560119,  1.        ],\n",
       "       [-0.29561994,  1.        ],\n",
       "       [ 0.72075527,  1.        ],\n",
       "       [ 0.08598708,  1.        ],\n",
       "       [ 0.20600061,  1.        ],\n",
       "       [ 1.45712571,  1.        ],\n",
       "       [ 0.12235319,  1.        ],\n",
       "       [-0.59033208,  1.        ],\n",
       "       [ 0.54946952,  1.        ],\n",
       "       [-0.246852  ,  1.        ],\n",
       "       [-0.03164408,  1.        ],\n",
       "       [ 0.31852621,  1.        ],\n",
       "       [ 1.01773715,  1.        ],\n",
       "       [-0.5046324 ,  1.        ],\n",
       "       [ 1.25266851,  1.        ],\n",
       "       [-1.14428646,  1.        ],\n",
       "       [-0.97584557,  1.        ],\n",
       "       [ 0.80726241,  1.        ],\n",
       "       [-1.16169406,  1.        ],\n",
       "       [ 1.18702988,  1.        ],\n",
       "       [ 1.47650524,  1.        ],\n",
       "       [-0.2156313 ,  1.        ],\n",
       "       [-0.14329236,  1.        ],\n",
       "       [-0.24223109,  1.        ],\n",
       "       [ 0.08716496,  1.        ],\n",
       "       [ 0.82025002,  1.        ],\n",
       "       [ 0.6320333 ,  1.        ]])"
      ]
     },
     "execution_count": 80,
     "metadata": {},
     "output_type": "execute_result"
    }
   ],
   "source": [
    "#Creation d'une matrice X\n",
    "X = np.hstack((x, np.ones(x.shape)))  # hstack permet de coller de vecteur numpy l'un a coter de l'autre\n",
    "X"
   ]
  },
  {
   "cell_type": "markdown",
   "metadata": {},
   "source": [
    "$$\\theta = \\begin{bmatrix}\n",
    "a  \\\\\n",
    "b \n",
    "\\end{bmatrix}$$"
   ]
  },
  {
   "cell_type": "code",
   "execution_count": 89,
   "metadata": {},
   "outputs": [
    {
     "data": {
      "text/plain": [
       "array([[0.8756589 ],\n",
       "       [0.14365013]])"
      ]
     },
     "execution_count": 89,
     "metadata": {},
     "output_type": "execute_result"
    }
   ],
   "source": [
    "theta = np.random.rand(2,1)  #En fonction du modele car ici on a un modele de type f(x) = ax + b\n",
    "theta\n"
   ]
  },
  {
   "cell_type": "markdown",
   "metadata": {},
   "source": [
    "### II° Modele"
   ]
  },
  {
   "cell_type": "code",
   "execution_count": 90,
   "metadata": {},
   "outputs": [],
   "source": [
    "def modele(X,theta):\n",
    "    return X.dot(theta)"
   ]
  },
  {
   "cell_type": "code",
   "execution_count": 91,
   "metadata": {},
   "outputs": [
    {
     "data": {
      "text/plain": [
       "[<matplotlib.lines.Line2D at 0x224b78a45f0>]"
      ]
     },
     "execution_count": 91,
     "metadata": {},
     "output_type": "execute_result"
    },
    {
     "data": {
      "image/png": "[encoded data removed]",
      "text/plain": [
       "<Figure size 640x480 with 1 Axes>"
      ]
     },
     "metadata": {},
     "output_type": "display_data"
    }
   ],
   "source": [
    "plt.scatter(x,y)\n",
    "plt.plot(x,modele(X,theta))"
   ]
  },
  {
   "cell_type": "code",
   "execution_count": 98,
   "metadata": {},
   "outputs": [],
   "source": [
    "def cost_function(theta,x,y):\n",
    "    m = len(y)\n",
    "    return 1/(2*m) * np.sum((modele(X,theta)-y)**2)"
   ]
  },
  {
   "cell_type": "code",
   "execution_count": 99,
   "metadata": {},
   "outputs": [
    {
     "data": {
      "text/plain": [
       "2969.4872792747524"
      ]
     },
     "execution_count": 99,
     "metadata": {},
     "output_type": "execute_result"
    }
   ],
   "source": [
    "cost_function(theta,X,y)"
   ]
  },
  {
   "cell_type": "markdown",
   "metadata": {},
   "source": [
    "### IV° Gradient and Gradient Descent"
   ]
  },
  {
   "cell_type": "code",
   "execution_count": 100,
   "metadata": {},
   "outputs": [],
   "source": [
    "def grad(theta,x,y):\n",
    "    return 1/len(y) * x.T.dot(modele(X,theta)-y)"
   ]
  },
  {
   "cell_type": "code",
   "execution_count": 95,
   "metadata": {},
   "outputs": [],
   "source": [
    "def grad_descent(theta,x,y,alpha,n_iteration):\n",
    "    for i in range(0,n_iteration):\n",
    "        theta = theta - alpha*grad(theta,x,y)\n",
    "    return theta"
   ]
  },
  {
   "cell_type": "markdown",
   "metadata": {},
   "source": [
    "### V° Machine Learning"
   ]
  },
  {
   "cell_type": "code",
   "execution_count": 101,
   "metadata": {},
   "outputs": [
    {
     "name": "stdout",
     "output_type": "stream",
     "text": [
      "[[86.83134283]\n",
      " [-0.21116253]]\n"
     ]
    }
   ],
   "source": [
    "Theta_final = grad_descent(theta,X,y,0.01,n_iteration=1000)\n",
    "print(Theta_final)"
   ]
  },
  {
   "cell_type": "code",
   "execution_count": 105,
   "metadata": {},
   "outputs": [
    {
     "data": {
      "text/plain": [
       "[<matplotlib.lines.Line2D at 0x224b79e58e0>]"
      ]
     },
     "execution_count": 105,
     "metadata": {},
     "output_type": "execute_result"
    },
    {
     "data": {
      "image/png": "[encoded data removed]",
      "text/plain": [
       "<Figure size 640x480 with 1 Axes>"
      ]
     },
     "metadata": {},
     "output_type": "display_data"
    }
   ],
   "source": [
    "prediction = modele(X,Theta_final)\n",
    "plt.scatter(x,y)\n",
    "plt.plot(x,prediction, c='r')"
   ]
  },
  {
   "cell_type": "markdown",
   "metadata": {},
   "source": [
    "### Coef de détermination\n",
    "\n",
    "$$R^2"
   ]
  },
  {
   "cell_type": "code",
   "execution_count": 103,
   "metadata": {},
   "outputs": [],
   "source": [
    "def coef_determination(y,prediction):\n",
    "    u = ((y-prediction)**2).sum()\n",
    "    v = ((y-y.mean())**2).sum()\n",
    "    return 1 - u/v"
   ]
  },
  {
   "cell_type": "code",
   "execution_count": 104,
   "metadata": {},
   "outputs": [
    {
     "name": "stdout",
     "output_type": "stream",
     "text": [
      "0.9823224987845609\n"
     ]
    }
   ],
   "source": [
    "print(coef_determination(y,prediction))"
   ]
  },
  {
   "cell_type": "code",
   "execution_count": null,
   "metadata": {},
   "outputs": [],
   "source": []
  }
 ],
 "metadata": {
  "kernelspec": {
   "display_name": "Python 3",
   "language": "python",
   "name": "python3"
  },
  "language_info": {
   "codemirror_mode": {
    "name": "ipython",
    "version": 3
   },
   "file_extension": ".py",
   "mimetype": "text/x-python",
   "name": "python",
   "nbconvert_exporter": "python",
   "pygments_lexer": "ipython3",
   "version": "3.12.4"
  }
 },
 "nbformat": 4,
 "nbformat_minor": 2
}
